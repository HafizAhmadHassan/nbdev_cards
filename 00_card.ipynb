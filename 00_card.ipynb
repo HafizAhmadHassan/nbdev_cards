{
 "cells": [
  {
   "cell_type": "code",
   "execution_count": 1,
   "metadata": {},
   "outputs": [],
   "source": [
    "#| default_exp card"
   ]
  },
  {
   "cell_type": "markdown",
   "metadata": {},
   "source": [
    "# card--A Basic Playing Card\n",
    "\n",
    "> A Sample Api to create and use playing cards\n"
   ]
  },
  {
   "cell_type": "code",
   "execution_count": 2,
   "metadata": {},
   "outputs": [],
   "source": [
    "#|hide\n",
    "from nbdev.showdoc import *\n",
    "from fastcore.test import *\n",
    "from fastcore.utils import *"
   ]
  },
  {
   "cell_type": "code",
   "execution_count": 3,
   "metadata": {},
   "outputs": [],
   "source": [
    "#|export\n",
    "suits = [\"♣️\",\"♦️\",\"❤️\",\"♠️\"]\n",
    "ranks = [None, \"A\"] + [str(x) for x in range(2,11)]  + [\"J\", \"Q\", \"K\"]\n"
   ]
  },
  {
   "cell_type": "code",
   "execution_count": 4,
   "metadata": {},
   "outputs": [
    {
     "data": {
      "text/plain": [
       "[None, 'A', '2', '3', '4', '5', '6', '7', '8', '9', '10', 'J', 'Q', 'K']"
      ]
     },
     "execution_count": 4,
     "metadata": {},
     "output_type": "execute_result"
    }
   ],
   "source": [
    "ranks"
   ]
  },
  {
   "cell_type": "code",
   "execution_count": 5,
   "metadata": {},
   "outputs": [
    {
     "data": {
      "text/plain": [
       "['♣️', '♦️', '❤️', '♠️']"
      ]
     },
     "execution_count": 5,
     "metadata": {},
     "output_type": "execute_result"
    }
   ],
   "source": [
    "suits"
   ]
  },
  {
   "cell_type": "code",
   "execution_count": 6,
   "metadata": {},
   "outputs": [
    {
     "data": {
      "text/plain": [
       "'\\nclass Card:\\n    \"A Playing Card\"\\n    def __init__(self,\\n                 suit:int, # Index to \\'suit\\'\\n                 rank:int):# Index to \\'rank\\'\\n        self.suit,self.rank=suit,rank\\n    def __str__(self): return f\"{suits[self.suit]} {ranks[self.rank]}\"\\n    __repr__=__str__\\n'"
      ]
     },
     "execution_count": 6,
     "metadata": {},
     "output_type": "execute_result"
    }
   ],
   "source": [
    "#|export\n",
    "\"\"\"\n",
    "class Card:\n",
    "    \"A Playing Card\"\n",
    "    def __init__(self,\n",
    "                 suit:int, # Index to 'suit'\n",
    "                 rank:int):# Index to 'rank'\n",
    "        self.suit,self.rank=suit,rank\n",
    "    def __str__(self): return f\"{suits[self.suit]} {ranks[self.rank]}\"\n",
    "    __repr__=__str__\n",
    "\"\"\"\n",
    "\n",
    "    "
   ]
  },
  {
   "cell_type": "code",
   "execution_count": 7,
   "metadata": {},
   "outputs": [],
   "source": [
    "\n",
    "#c= Card(suit=3,rank=1)"
   ]
  },
  {
   "cell_type": "markdown",
   "metadata": {},
   "source": [
    "# Without _str"
   ]
  },
  {
   "cell_type": "code",
   "execution_count": 8,
   "metadata": {},
   "outputs": [],
   "source": [
    "#print(c)"
   ]
  },
  {
   "cell_type": "markdown",
   "metadata": {},
   "source": [
    "# With _str"
   ]
  },
  {
   "cell_type": "code",
   "execution_count": 9,
   "metadata": {},
   "outputs": [
    {
     "data": {
      "text/plain": [
       "'\\n#|export\\nclass Card:\\n    def __init__(self,suit,rank): self.suit,self.rank=suit,rank\\n    def __str__(self): return f\"{suits[self.suit]} {ranks[self.rank]}\"\\n    \\n'"
      ]
     },
     "execution_count": 9,
     "metadata": {},
     "output_type": "execute_result"
    }
   ],
   "source": [
    "\"\"\"\n",
    "#|export\n",
    "class Card:\n",
    "    def __init__(self,suit,rank): self.suit,self.rank=suit,rank\n",
    "    def __str__(self): return f\"{suits[self.suit]} {ranks[self.rank]}\"\n",
    "    \n",
    "\"\"\"\n"
   ]
  },
  {
   "cell_type": "code",
   "execution_count": 10,
   "metadata": {},
   "outputs": [],
   "source": [
    "#c= Card(suit=3,rank=1)"
   ]
  },
  {
   "cell_type": "code",
   "execution_count": 11,
   "metadata": {},
   "outputs": [],
   "source": [
    "#print(c)"
   ]
  },
  {
   "cell_type": "code",
   "execution_count": 12,
   "metadata": {},
   "outputs": [],
   "source": [
    "#c"
   ]
  },
  {
   "cell_type": "code",
   "execution_count": 13,
   "metadata": {},
   "outputs": [
    {
     "data": {
      "text/plain": [
       "'\\n#|export\\nclass Card:\\n    \"A Playing Card\"\\n    def __init__(self,\\n                 suit:int, # Index to \\'suit\\'\\n                 rank:int):# Index to \\'rank\\'\\n        self.suit,self.rank=suit,rank\\n    def __str__(self): return f\"{suits[self.suit]} {ranks[self.rank]}\"\\n    __repr__=__str__\\n'"
      ]
     },
     "execution_count": 13,
     "metadata": {},
     "output_type": "execute_result"
    }
   ],
   "source": [
    "\"\"\"\n",
    "#|export\n",
    "class Card:\n",
    "    \"A Playing Card\"\n",
    "    def __init__(self,\n",
    "                 suit:int, # Index to 'suit'\n",
    "                 rank:int):# Index to 'rank'\n",
    "        self.suit,self.rank=suit,rank\n",
    "    def __str__(self): return f\"{suits[self.suit]} {ranks[self.rank]}\"\n",
    "    __repr__=__str__\n",
    "\"\"\"\n"
   ]
  },
  {
   "cell_type": "code",
   "execution_count": 14,
   "metadata": {},
   "outputs": [],
   "source": [
    "#c= Card(suit=3,rank=1)"
   ]
  },
  {
   "cell_type": "code",
   "execution_count": 15,
   "metadata": {},
   "outputs": [],
   "source": [
    "#c"
   ]
  },
  {
   "cell_type": "code",
   "execution_count": 16,
   "metadata": {},
   "outputs": [],
   "source": [
    "#show_doc(Card)"
   ]
  },
  {
   "cell_type": "markdown",
   "metadata": {},
   "source": [
    "# Testing"
   ]
  },
  {
   "cell_type": "markdown",
   "metadata": {},
   "source": [
    "## Check Equality"
   ]
  },
  {
   "cell_type": "code",
   "execution_count": 17,
   "metadata": {},
   "outputs": [
    {
     "data": {
      "text/plain": [
       "'\\n#|export\\nclass Card:\\n    \"A Playing Card\"\\n    def __init__(self,\\n                 suit:int, # Index to \\'suit\\'\\n                 rank:int):# Index to \\'rank\\'\\n        self.suit,self.rank=suit,rank\\n    def __str__(self): return f\"{suits[self.suit]} {ranks[self.rank]}\"\\n    def __eq__(self,a): return (self.suit,self.rank) == (a.suit,self.rank)\\n    __repr__=__str__\\n'"
      ]
     },
     "execution_count": 17,
     "metadata": {},
     "output_type": "execute_result"
    }
   ],
   "source": [
    "\"\"\"\n",
    "#|export\n",
    "class Card:\n",
    "    \"A Playing Card\"\n",
    "    def __init__(self,\n",
    "                 suit:int, # Index to 'suit'\n",
    "                 rank:int):# Index to 'rank'\n",
    "        self.suit,self.rank=suit,rank\n",
    "    def __str__(self): return f\"{suits[self.suit]} {ranks[self.rank]}\"\n",
    "    def __eq__(self,a): return (self.suit,self.rank) == (a.suit,self.rank)\n",
    "    __repr__=__str__\n",
    "\"\"\"\n"
   ]
  },
  {
   "cell_type": "code",
   "execution_count": 18,
   "metadata": {},
   "outputs": [],
   "source": [
    "#c1 = Card(suit=1,rank=3)\n",
    "#c2 = Card(suit=1,rank=3)\n",
    "#c3 = Card(suit=2,rank=3)"
   ]
  },
  {
   "cell_type": "code",
   "execution_count": 19,
   "metadata": {},
   "outputs": [],
   "source": [
    "#test_eq(c1,c2)"
   ]
  },
  {
   "cell_type": "code",
   "execution_count": 20,
   "metadata": {},
   "outputs": [],
   "source": [
    "#test_eq(c1,c3)"
   ]
  },
  {
   "cell_type": "markdown",
   "metadata": {},
   "source": [
    "## Another way of Testing with Patcher"
   ]
  },
  {
   "cell_type": "code",
   "execution_count": null,
   "metadata": {},
   "outputs": [],
   "source": []
  },
  {
   "cell_type": "code",
   "execution_count": 21,
   "metadata": {},
   "outputs": [],
   "source": [
    "#|export\n",
    "class Card:\n",
    "    \"A Playing Card\"\n",
    "    def __init__(self,\n",
    "                 suit:int, # Index to 'suit'\n",
    "                 rank:int):# Index to 'rank'\n",
    "        self.suit,self.rank=suit,rank\n",
    "    def __str__(self): return f\"{suits[self.suit]} {ranks[self.rank]}\"\n",
    "    __repr__=__str__"
   ]
  },
  {
   "cell_type": "code",
   "execution_count": 22,
   "metadata": {},
   "outputs": [],
   "source": [
    "c1 = Card(suit=1,rank=3)\n",
    "c2 = Card(suit=1,rank=3)\n",
    "c3 = Card(suit=2,rank=3)"
   ]
  },
  {
   "cell_type": "code",
   "execution_count": 23,
   "metadata": {},
   "outputs": [],
   "source": [
    "@patch\n",
    "def __eq__(self:Card,a:Card): return (self.suit,self.rank) == (a.suit,self.rank)\n",
    "@patch\n",
    "def __gt__(self:Card,a:Card): return (self.suit,self.rank) > (a.suit,self.rank)\n",
    "@patch\n",
    "def __lt__(self:Card,a:Card): return (self.suit,self.rank) < (a.suit,self.rank)\n",
    "\n",
    "\n"
   ]
  },
  {
   "cell_type": "code",
   "execution_count": 24,
   "metadata": {},
   "outputs": [],
   "source": [
    "test_eq(c1,c2)\n",
    "test_ne(c1,c3)\n",
    "assert c3>c1\n",
    "assert not c1>c3\n",
    "assert c1<c3"
   ]
  },
  {
   "cell_type": "code",
   "execution_count": null,
   "metadata": {},
   "outputs": [],
   "source": []
  }
 ],
 "metadata": {
  "kernelspec": {
   "display_name": "Python 3",
   "language": "python",
   "name": "python3"
  },
  "language_info": {
   "codemirror_mode": {
    "name": "ipython",
    "version": 3
   },
   "file_extension": ".py",
   "mimetype": "text/x-python",
   "name": "python",
   "nbconvert_exporter": "python",
   "pygments_lexer": "ipython3",
   "version": "3.8.3"
  }
 },
 "nbformat": 4,
 "nbformat_minor": 4
}
